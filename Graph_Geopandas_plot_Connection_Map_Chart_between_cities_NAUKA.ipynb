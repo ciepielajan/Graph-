{
  "nbformat": 4,
  "nbformat_minor": 0,
  "metadata": {
    "colab": {
      "name": "Graph Geopandas plot Connection Map Chart between cities -  NAUKA.ipynb",
      "provenance": [],
      "collapsed_sections": []
    },
    "kernelspec": {
      "name": "python3",
      "display_name": "Python 3"
    },
    "language_info": {
      "name": "python"
    }
  },
  "cells": [
    {
      "cell_type": "code",
      "metadata": {
        "id": "fP896mDAMwpG",
        "colab": {
          "base_uri": "https://localhost:8080/"
        },
        "outputId": "a06cd332-3353-4fe8-9e6c-ae9eec9daed5"
      },
      "source": [
        "!pip install git+git://github.com/geopandas/geopandas.git -q"
      ],
      "execution_count": 1,
      "outputs": [
        {
          "output_type": "stream",
          "text": [
            "\u001b[K     |████████████████████████████████| 15.4 MB 37 kB/s \n",
            "\u001b[K     |████████████████████████████████| 6.6 MB 36.0 MB/s \n",
            "\u001b[?25h  Building wheel for geopandas (setup.py) ... \u001b[?25l\u001b[?25hdone\n"
          ],
          "name": "stdout"
        }
      ]
    },
    {
      "cell_type": "code",
      "metadata": {
        "colab": {
          "base_uri": "https://localhost:8080/"
        },
        "id": "wyMiXhklMYEq",
        "outputId": "fc5efb95-1592-4b4e-a425-f53bf2091b9c"
      },
      "source": [
        "import pandas as pd\n",
        "import geopandas as gpd\n",
        "\n",
        "import matplotlib.pyplot as plt\n",
        "import plotly.graph_objects as go\n",
        "\n",
        "pd.set_option(\"max.columns\", 30)\n",
        "\n",
        "print(\"Available Pandas Datasets\", gpd.datasets.available)"
      ],
      "execution_count": 2,
      "outputs": [
        {
          "output_type": "stream",
          "text": [
            "Available Pandas Datasets ['naturalearth_lowres', 'naturalearth_cities', 'nybb']\n"
          ],
          "name": "stdout"
        }
      ]
    },
    {
      "cell_type": "markdown",
      "metadata": {
        "id": "prGkMS6DNkIR"
      },
      "source": [
        "Pobranie wykazu lotów\n",
        "\n",
        "https://www.kaggle.com/ramirobentes/flights-in-brazil"
      ]
    },
    {
      "cell_type": "code",
      "metadata": {
        "colab": {
          "base_uri": "https://localhost:8080/"
        },
        "id": "Mk1VhT5xNoD0",
        "outputId": "09812efd-8f26-4253-a459-0a1e240117dd"
      },
      "source": [
        "!gdown --id \"1UHwEp3wjprkHAKeUJDoTG9GWftIWyN5Q\""
      ],
      "execution_count": 3,
      "outputs": [
        {
          "output_type": "stream",
          "text": [
            "Downloading...\n",
            "From: https://drive.google.com/uc?id=1UHwEp3wjprkHAKeUJDoTG9GWftIWyN5Q\n",
            "To: /content/BrFlights2.csv.zip\n",
            "41.6MB [00:00, 99.9MB/s]\n"
          ],
          "name": "stdout"
        }
      ]
    },
    {
      "cell_type": "code",
      "metadata": {
        "colab": {
          "base_uri": "https://localhost:8080/"
        },
        "id": "QkdExmNZOd8o",
        "outputId": "81d9aab1-0898-4f43-e82a-15e08a809a52"
      },
      "source": [
        "!unzip \"BrFlights2.csv.zip\""
      ],
      "execution_count": 4,
      "outputs": [
        {
          "output_type": "stream",
          "text": [
            "Archive:  BrFlights2.csv.zip\n",
            "  inflating: BrFlights2.csv          \n"
          ],
          "name": "stdout"
        }
      ]
    },
    {
      "cell_type": "code",
      "metadata": {
        "colab": {
          "base_uri": "https://localhost:8080/",
          "height": 221
        },
        "id": "aJ7TTfdhNjPR",
        "outputId": "2f6a6565-bf0a-4ff3-911c-9326d0d90224"
      },
      "source": [
        "df = pd.read_csv(\"BrFlights2.csv\", nrows=5000, encoding=\"latin1\")\n",
        "df = df[[\"Voos\", \"Companhia.Aerea\",\"LongDest\",\"LatDest\",\"LongOrig\",\"LatOrig\", \"Cidade.Origem\", \"Cidade.Destino\", \"Pais.Origem\", \"Pais.Destino\"]]\n",
        "print(\"Dataset Size : \",df.shape)\n",
        "df.head()"
      ],
      "execution_count": 20,
      "outputs": [
        {
          "output_type": "stream",
          "text": [
            "Dataset Size :  (5000, 10)\n"
          ],
          "name": "stdout"
        },
        {
          "output_type": "execute_result",
          "data": {
            "text/html": [
              "<div>\n",
              "<style scoped>\n",
              "    .dataframe tbody tr th:only-of-type {\n",
              "        vertical-align: middle;\n",
              "    }\n",
              "\n",
              "    .dataframe tbody tr th {\n",
              "        vertical-align: top;\n",
              "    }\n",
              "\n",
              "    .dataframe thead th {\n",
              "        text-align: right;\n",
              "    }\n",
              "</style>\n",
              "<table border=\"1\" class=\"dataframe\">\n",
              "  <thead>\n",
              "    <tr style=\"text-align: right;\">\n",
              "      <th></th>\n",
              "      <th>Voos</th>\n",
              "      <th>Companhia.Aerea</th>\n",
              "      <th>LongDest</th>\n",
              "      <th>LatDest</th>\n",
              "      <th>LongOrig</th>\n",
              "      <th>LatOrig</th>\n",
              "      <th>Cidade.Origem</th>\n",
              "      <th>Cidade.Destino</th>\n",
              "      <th>Pais.Origem</th>\n",
              "      <th>Pais.Destino</th>\n",
              "    </tr>\n",
              "  </thead>\n",
              "  <tbody>\n",
              "    <tr>\n",
              "      <th>0</th>\n",
              "      <td>AAL - 203</td>\n",
              "      <td>AMERICAN AIRLINES INC</td>\n",
              "      <td>-51.175381</td>\n",
              "      <td>-29.993473</td>\n",
              "      <td>-49.172481</td>\n",
              "      <td>-25.532713</td>\n",
              "      <td>Sao Jose Dos Pinhais</td>\n",
              "      <td>Porto Alegre</td>\n",
              "      <td>Brasil</td>\n",
              "      <td>Brasil</td>\n",
              "    </tr>\n",
              "    <tr>\n",
              "      <th>1</th>\n",
              "      <td>AAL - 203</td>\n",
              "      <td>AMERICAN AIRLINES INC</td>\n",
              "      <td>-80.287046</td>\n",
              "      <td>25.795865</td>\n",
              "      <td>-51.175381</td>\n",
              "      <td>-29.993473</td>\n",
              "      <td>Porto Alegre</td>\n",
              "      <td>Miami</td>\n",
              "      <td>Brasil</td>\n",
              "      <td>Estados Unidos</td>\n",
              "    </tr>\n",
              "    <tr>\n",
              "      <th>2</th>\n",
              "      <td>AAL - 203</td>\n",
              "      <td>AMERICAN AIRLINES INC</td>\n",
              "      <td>-80.287046</td>\n",
              "      <td>25.795865</td>\n",
              "      <td>-51.175381</td>\n",
              "      <td>-29.993473</td>\n",
              "      <td>Porto Alegre</td>\n",
              "      <td>Miami</td>\n",
              "      <td>Brasil</td>\n",
              "      <td>Estados Unidos</td>\n",
              "    </tr>\n",
              "    <tr>\n",
              "      <th>3</th>\n",
              "      <td>AAL - 203</td>\n",
              "      <td>AMERICAN AIRLINES INC</td>\n",
              "      <td>-80.287046</td>\n",
              "      <td>25.795865</td>\n",
              "      <td>-51.175381</td>\n",
              "      <td>-29.993473</td>\n",
              "      <td>Porto Alegre</td>\n",
              "      <td>Miami</td>\n",
              "      <td>Brasil</td>\n",
              "      <td>Estados Unidos</td>\n",
              "    </tr>\n",
              "    <tr>\n",
              "      <th>4</th>\n",
              "      <td>AAL - 203</td>\n",
              "      <td>AMERICAN AIRLINES INC</td>\n",
              "      <td>-80.287046</td>\n",
              "      <td>25.795865</td>\n",
              "      <td>-51.175381</td>\n",
              "      <td>-29.993473</td>\n",
              "      <td>Porto Alegre</td>\n",
              "      <td>Miami</td>\n",
              "      <td>Brasil</td>\n",
              "      <td>Estados Unidos</td>\n",
              "    </tr>\n",
              "  </tbody>\n",
              "</table>\n",
              "</div>"
            ],
            "text/plain": [
              "        Voos        Companhia.Aerea   LongDest    LatDest   LongOrig  \\\n",
              "0  AAL - 203  AMERICAN AIRLINES INC -51.175381 -29.993473 -49.172481   \n",
              "1  AAL - 203  AMERICAN AIRLINES INC -80.287046  25.795865 -51.175381   \n",
              "2  AAL - 203  AMERICAN AIRLINES INC -80.287046  25.795865 -51.175381   \n",
              "3  AAL - 203  AMERICAN AIRLINES INC -80.287046  25.795865 -51.175381   \n",
              "4  AAL - 203  AMERICAN AIRLINES INC -80.287046  25.795865 -51.175381   \n",
              "\n",
              "     LatOrig         Cidade.Origem Cidade.Destino Pais.Origem    Pais.Destino  \n",
              "0 -25.532713  Sao Jose Dos Pinhais   Porto Alegre      Brasil          Brasil  \n",
              "1 -29.993473          Porto Alegre          Miami      Brasil  Estados Unidos  \n",
              "2 -29.993473          Porto Alegre          Miami      Brasil  Estados Unidos  \n",
              "3 -29.993473          Porto Alegre          Miami      Brasil  Estados Unidos  \n",
              "4 -29.993473          Porto Alegre          Miami      Brasil  Estados Unidos  "
            ]
          },
          "metadata": {},
          "execution_count": 20
        }
      ]
    },
    {
      "cell_type": "code",
      "metadata": {
        "colab": {
          "base_uri": "https://localhost:8080/",
          "height": 204
        },
        "id": "w2r9ka7Fhbu5",
        "outputId": "d5f09746-d27f-497d-ba1f-92936ad8499b"
      },
      "source": [
        "world = gpd.read_file(gpd.datasets.get_path(\"naturalearth_lowres\"))\n",
        "world.head()"
      ],
      "execution_count": 21,
      "outputs": [
        {
          "output_type": "execute_result",
          "data": {
            "text/html": [
              "<div>\n",
              "<style scoped>\n",
              "    .dataframe tbody tr th:only-of-type {\n",
              "        vertical-align: middle;\n",
              "    }\n",
              "\n",
              "    .dataframe tbody tr th {\n",
              "        vertical-align: top;\n",
              "    }\n",
              "\n",
              "    .dataframe thead th {\n",
              "        text-align: right;\n",
              "    }\n",
              "</style>\n",
              "<table border=\"1\" class=\"dataframe\">\n",
              "  <thead>\n",
              "    <tr style=\"text-align: right;\">\n",
              "      <th></th>\n",
              "      <th>pop_est</th>\n",
              "      <th>continent</th>\n",
              "      <th>name</th>\n",
              "      <th>iso_a3</th>\n",
              "      <th>gdp_md_est</th>\n",
              "      <th>geometry</th>\n",
              "    </tr>\n",
              "  </thead>\n",
              "  <tbody>\n",
              "    <tr>\n",
              "      <th>0</th>\n",
              "      <td>920938</td>\n",
              "      <td>Oceania</td>\n",
              "      <td>Fiji</td>\n",
              "      <td>FJI</td>\n",
              "      <td>8374.0</td>\n",
              "      <td>MULTIPOLYGON (((180.00000 -16.06713, 180.00000...</td>\n",
              "    </tr>\n",
              "    <tr>\n",
              "      <th>1</th>\n",
              "      <td>53950935</td>\n",
              "      <td>Africa</td>\n",
              "      <td>Tanzania</td>\n",
              "      <td>TZA</td>\n",
              "      <td>150600.0</td>\n",
              "      <td>POLYGON ((33.90371 -0.95000, 34.07262 -1.05982...</td>\n",
              "    </tr>\n",
              "    <tr>\n",
              "      <th>2</th>\n",
              "      <td>603253</td>\n",
              "      <td>Africa</td>\n",
              "      <td>W. Sahara</td>\n",
              "      <td>ESH</td>\n",
              "      <td>906.5</td>\n",
              "      <td>POLYGON ((-8.66559 27.65643, -8.66512 27.58948...</td>\n",
              "    </tr>\n",
              "    <tr>\n",
              "      <th>3</th>\n",
              "      <td>35623680</td>\n",
              "      <td>North America</td>\n",
              "      <td>Canada</td>\n",
              "      <td>CAN</td>\n",
              "      <td>1674000.0</td>\n",
              "      <td>MULTIPOLYGON (((-122.84000 49.00000, -122.9742...</td>\n",
              "    </tr>\n",
              "    <tr>\n",
              "      <th>4</th>\n",
              "      <td>326625791</td>\n",
              "      <td>North America</td>\n",
              "      <td>United States of America</td>\n",
              "      <td>USA</td>\n",
              "      <td>18560000.0</td>\n",
              "      <td>MULTIPOLYGON (((-122.84000 49.00000, -120.0000...</td>\n",
              "    </tr>\n",
              "  </tbody>\n",
              "</table>\n",
              "</div>"
            ],
            "text/plain": [
              "     pop_est      continent                      name iso_a3  gdp_md_est  \\\n",
              "0     920938        Oceania                      Fiji    FJI      8374.0   \n",
              "1   53950935         Africa                  Tanzania    TZA    150600.0   \n",
              "2     603253         Africa                 W. Sahara    ESH       906.5   \n",
              "3   35623680  North America                    Canada    CAN   1674000.0   \n",
              "4  326625791  North America  United States of America    USA  18560000.0   \n",
              "\n",
              "                                            geometry  \n",
              "0  MULTIPOLYGON (((180.00000 -16.06713, 180.00000...  \n",
              "1  POLYGON ((33.90371 -0.95000, 34.07262 -1.05982...  \n",
              "2  POLYGON ((-8.66559 27.65643, -8.66512 27.58948...  \n",
              "3  MULTIPOLYGON (((-122.84000 49.00000, -122.9742...  \n",
              "4  MULTIPOLYGON (((-122.84000 49.00000, -120.0000...  "
            ]
          },
          "metadata": {},
          "execution_count": 21
        }
      ]
    },
    {
      "cell_type": "markdown",
      "metadata": {
        "id": "W_VR53_Wk5jM"
      },
      "source": [
        "Nauka"
      ]
    },
    {
      "cell_type": "markdown",
      "metadata": {
        "id": "D1YdYH5Hk8U1"
      },
      "source": [
        "https://geopandas.org/gallery/create_geopandas_from_pandas.html"
      ]
    },
    {
      "cell_type": "code",
      "metadata": {
        "colab": {
          "base_uri": "https://localhost:8080/",
          "height": 204
        },
        "id": "QXhwKkaUkdN6",
        "outputId": "49aba86f-c0cf-4338-9263-03e8356d44d6"
      },
      "source": [
        "df = pd.DataFrame(\n",
        "    {'City': ['Buenos Aires', 'Brasilia', 'Santiago', 'Bogota', 'Caracas'],\n",
        "     'Country': ['Argentina', 'Brazil', 'Chile', 'Colombia', 'Venezuela'],\n",
        "     'Coordinates': ['POINT(-58.66 -34.58)', 'POINT(-47.91 -15.78)',\n",
        "                     'POINT(-70.66 -33.45)', 'POINT(-74.08 4.60)',\n",
        "                     'POINT(-66.86 10.48)']})\n",
        "\n",
        "df"
      ],
      "execution_count": 52,
      "outputs": [
        {
          "output_type": "execute_result",
          "data": {
            "text/html": [
              "<div>\n",
              "<style scoped>\n",
              "    .dataframe tbody tr th:only-of-type {\n",
              "        vertical-align: middle;\n",
              "    }\n",
              "\n",
              "    .dataframe tbody tr th {\n",
              "        vertical-align: top;\n",
              "    }\n",
              "\n",
              "    .dataframe thead th {\n",
              "        text-align: right;\n",
              "    }\n",
              "</style>\n",
              "<table border=\"1\" class=\"dataframe\">\n",
              "  <thead>\n",
              "    <tr style=\"text-align: right;\">\n",
              "      <th></th>\n",
              "      <th>City</th>\n",
              "      <th>Country</th>\n",
              "      <th>Coordinates</th>\n",
              "    </tr>\n",
              "  </thead>\n",
              "  <tbody>\n",
              "    <tr>\n",
              "      <th>0</th>\n",
              "      <td>Buenos Aires</td>\n",
              "      <td>Argentina</td>\n",
              "      <td>POINT(-58.66 -34.58)</td>\n",
              "    </tr>\n",
              "    <tr>\n",
              "      <th>1</th>\n",
              "      <td>Brasilia</td>\n",
              "      <td>Brazil</td>\n",
              "      <td>POINT(-47.91 -15.78)</td>\n",
              "    </tr>\n",
              "    <tr>\n",
              "      <th>2</th>\n",
              "      <td>Santiago</td>\n",
              "      <td>Chile</td>\n",
              "      <td>POINT(-70.66 -33.45)</td>\n",
              "    </tr>\n",
              "    <tr>\n",
              "      <th>3</th>\n",
              "      <td>Bogota</td>\n",
              "      <td>Colombia</td>\n",
              "      <td>POINT(-74.08 4.60)</td>\n",
              "    </tr>\n",
              "    <tr>\n",
              "      <th>4</th>\n",
              "      <td>Caracas</td>\n",
              "      <td>Venezuela</td>\n",
              "      <td>POINT(-66.86 10.48)</td>\n",
              "    </tr>\n",
              "  </tbody>\n",
              "</table>\n",
              "</div>"
            ],
            "text/plain": [
              "           City    Country           Coordinates\n",
              "0  Buenos Aires  Argentina  POINT(-58.66 -34.58)\n",
              "1      Brasilia     Brazil  POINT(-47.91 -15.78)\n",
              "2      Santiago      Chile  POINT(-70.66 -33.45)\n",
              "3        Bogota   Colombia    POINT(-74.08 4.60)\n",
              "4       Caracas  Venezuela   POINT(-66.86 10.48)"
            ]
          },
          "metadata": {},
          "execution_count": 52
        }
      ]
    },
    {
      "cell_type": "code",
      "metadata": {
        "colab": {
          "base_uri": "https://localhost:8080/",
          "height": 204
        },
        "id": "dWS4i1xgk6z1",
        "outputId": "6e7f663c-8fca-460e-cb04-d7e8717cc4c7"
      },
      "source": [
        "from shapely import wkt\n",
        "\n",
        "df['Coordinates'] = gpd.GeoSeries.from_wkt(df['Coordinates'])\n",
        "df"
      ],
      "execution_count": 53,
      "outputs": [
        {
          "output_type": "execute_result",
          "data": {
            "text/html": [
              "<div>\n",
              "<style scoped>\n",
              "    .dataframe tbody tr th:only-of-type {\n",
              "        vertical-align: middle;\n",
              "    }\n",
              "\n",
              "    .dataframe tbody tr th {\n",
              "        vertical-align: top;\n",
              "    }\n",
              "\n",
              "    .dataframe thead th {\n",
              "        text-align: right;\n",
              "    }\n",
              "</style>\n",
              "<table border=\"1\" class=\"dataframe\">\n",
              "  <thead>\n",
              "    <tr style=\"text-align: right;\">\n",
              "      <th></th>\n",
              "      <th>City</th>\n",
              "      <th>Country</th>\n",
              "      <th>Coordinates</th>\n",
              "    </tr>\n",
              "  </thead>\n",
              "  <tbody>\n",
              "    <tr>\n",
              "      <th>0</th>\n",
              "      <td>Buenos Aires</td>\n",
              "      <td>Argentina</td>\n",
              "      <td>POINT (-58.66000 -34.58000)</td>\n",
              "    </tr>\n",
              "    <tr>\n",
              "      <th>1</th>\n",
              "      <td>Brasilia</td>\n",
              "      <td>Brazil</td>\n",
              "      <td>POINT (-47.91000 -15.78000)</td>\n",
              "    </tr>\n",
              "    <tr>\n",
              "      <th>2</th>\n",
              "      <td>Santiago</td>\n",
              "      <td>Chile</td>\n",
              "      <td>POINT (-70.66000 -33.45000)</td>\n",
              "    </tr>\n",
              "    <tr>\n",
              "      <th>3</th>\n",
              "      <td>Bogota</td>\n",
              "      <td>Colombia</td>\n",
              "      <td>POINT (-74.08000 4.60000)</td>\n",
              "    </tr>\n",
              "    <tr>\n",
              "      <th>4</th>\n",
              "      <td>Caracas</td>\n",
              "      <td>Venezuela</td>\n",
              "      <td>POINT (-66.86000 10.48000)</td>\n",
              "    </tr>\n",
              "  </tbody>\n",
              "</table>\n",
              "</div>"
            ],
            "text/plain": [
              "           City    Country                  Coordinates\n",
              "0  Buenos Aires  Argentina  POINT (-58.66000 -34.58000)\n",
              "1      Brasilia     Brazil  POINT (-47.91000 -15.78000)\n",
              "2      Santiago      Chile  POINT (-70.66000 -33.45000)\n",
              "3        Bogota   Colombia    POINT (-74.08000 4.60000)\n",
              "4       Caracas  Venezuela   POINT (-66.86000 10.48000)"
            ]
          },
          "metadata": {},
          "execution_count": 53
        }
      ]
    },
    {
      "cell_type": "code",
      "metadata": {
        "colab": {
          "base_uri": "https://localhost:8080/",
          "height": 204
        },
        "id": "hycku5kZlCkv",
        "outputId": "8ebb9952-95f5-4827-be5f-a0029c1c6dcc"
      },
      "source": [
        "gdf = gpd.GeoDataFrame(df, geometry='Coordinates')\n",
        "gdf"
      ],
      "execution_count": 56,
      "outputs": [
        {
          "output_type": "execute_result",
          "data": {
            "text/html": [
              "<div>\n",
              "<style scoped>\n",
              "    .dataframe tbody tr th:only-of-type {\n",
              "        vertical-align: middle;\n",
              "    }\n",
              "\n",
              "    .dataframe tbody tr th {\n",
              "        vertical-align: top;\n",
              "    }\n",
              "\n",
              "    .dataframe thead th {\n",
              "        text-align: right;\n",
              "    }\n",
              "</style>\n",
              "<table border=\"1\" class=\"dataframe\">\n",
              "  <thead>\n",
              "    <tr style=\"text-align: right;\">\n",
              "      <th></th>\n",
              "      <th>City</th>\n",
              "      <th>Country</th>\n",
              "      <th>Coordinates</th>\n",
              "    </tr>\n",
              "  </thead>\n",
              "  <tbody>\n",
              "    <tr>\n",
              "      <th>0</th>\n",
              "      <td>Buenos Aires</td>\n",
              "      <td>Argentina</td>\n",
              "      <td>POINT (-58.66000 -34.58000)</td>\n",
              "    </tr>\n",
              "    <tr>\n",
              "      <th>1</th>\n",
              "      <td>Brasilia</td>\n",
              "      <td>Brazil</td>\n",
              "      <td>POINT (-47.91000 -15.78000)</td>\n",
              "    </tr>\n",
              "    <tr>\n",
              "      <th>2</th>\n",
              "      <td>Santiago</td>\n",
              "      <td>Chile</td>\n",
              "      <td>POINT (-70.66000 -33.45000)</td>\n",
              "    </tr>\n",
              "    <tr>\n",
              "      <th>3</th>\n",
              "      <td>Bogota</td>\n",
              "      <td>Colombia</td>\n",
              "      <td>POINT (-74.08000 4.60000)</td>\n",
              "    </tr>\n",
              "    <tr>\n",
              "      <th>4</th>\n",
              "      <td>Caracas</td>\n",
              "      <td>Venezuela</td>\n",
              "      <td>POINT (-66.86000 10.48000)</td>\n",
              "    </tr>\n",
              "  </tbody>\n",
              "</table>\n",
              "</div>"
            ],
            "text/plain": [
              "           City    Country                  Coordinates\n",
              "0  Buenos Aires  Argentina  POINT (-58.66000 -34.58000)\n",
              "1      Brasilia     Brazil  POINT (-47.91000 -15.78000)\n",
              "2      Santiago      Chile  POINT (-70.66000 -33.45000)\n",
              "3        Bogota   Colombia    POINT (-74.08000 4.60000)\n",
              "4       Caracas  Venezuela   POINT (-66.86000 10.48000)"
            ]
          },
          "metadata": {},
          "execution_count": 56
        }
      ]
    },
    {
      "cell_type": "code",
      "metadata": {
        "colab": {
          "base_uri": "https://localhost:8080/",
          "height": 265
        },
        "id": "N21Iix-XlRs4",
        "outputId": "efd441c9-38eb-4d76-c105-024fe2fb8992"
      },
      "source": [
        "ax = world[world.continent == 'South America'].plot(\n",
        "    color='white', edgecolor='black')\n",
        "\n",
        "gdf.plot(ax=ax, color='red')\n",
        "\n",
        "plt.show()"
      ],
      "execution_count": 57,
      "outputs": [
        {
          "output_type": "display_data",
          "data": {
            "image/png": "[encoded data removed]",
            "text/plain": [
              "<Figure size 432x288 with 1 Axes>"
            ]
          },
          "metadata": {
            "needs_background": "light"
          }
        }
      ]
    },
    {
      "cell_type": "code",
      "metadata": {
        "colab": {
          "base_uri": "https://localhost:8080/",
          "height": 265
        },
        "id": "nKcfbSx6n46J",
        "outputId": "c5135e95-e2ac-4adf-8483-17bd13da5213"
      },
      "source": [
        "ax = world[world.continent == 'South America'].plot(\n",
        "color='white', edgecolor='black')\n",
        "\n",
        "gdf.plot(ax=ax, color='red')\n",
        "\n",
        "slat = df.iloc[0][\"Coordinates\"].x\n",
        "dlat = df.iloc[0][\"Coordinates\"].y\n",
        "slon = df.iloc[1][\"Coordinates\"].x\n",
        "dlon =df.iloc[1][\"Coordinates\"].y\n",
        "\n",
        "plt.plot([slat,slon], [dlat,dlon], linewidth=5, color=\"red\", alpha=1)\n",
        "\n",
        "plt.show()"
      ],
      "execution_count": 90,
      "outputs": [
        {
          "output_type": "display_data",
          "data": {
            "image/png": "[encoded data removed]",
            "text/plain": [
              "<Figure size 432x288 with 1 Axes>"
            ]
          },
          "metadata": {
            "needs_background": "light"
          }
        }
      ]
    },
    {
      "cell_type": "code",
      "metadata": {
        "colab": {
          "base_uri": "https://localhost:8080/",
          "height": 265
        },
        "id": "MOQVo25vpDBf",
        "outputId": "c69d1e29-8de1-4995-ce2f-126db9cd000d"
      },
      "source": [
        "ax = world[world.continent == 'South America'].plot(\n",
        "color='white', edgecolor='black')\n",
        "\n",
        "gdf.plot(ax=ax, color='red')\n",
        "\n",
        "slat = df.iloc[0][\"Coordinates\"].x  \n",
        "dlat = df.iloc[0][\"Coordinates\"].y\n",
        "slon = df.iloc[1][\"Coordinates\"].x\n",
        "dlon =df.iloc[1][\"Coordinates\"].y\n",
        "\n",
        "slon2 = df.iloc[2][\"Coordinates\"].x\n",
        "dlon2 =df.iloc[2][\"Coordinates\"].y\n",
        "\n",
        "slon3 = df.iloc[3][\"Coordinates\"].x\n",
        "dlon3 =df.iloc[3][\"Coordinates\"].y\n",
        "\n",
        "slon4 = df.iloc[4][\"Coordinates\"].x\n",
        "dlon4 =df.iloc[4][\"Coordinates\"].y\n",
        "\n",
        "plt.plot([slat,slon], [dlat,dlon], linewidth=5, color=\"red\", alpha=1)   \n",
        "plt.plot([slat,slon2], [dlat,dlon2], linewidth=5, color=\"red\", alpha=1)    # dlaczego połaczenie slat, slon2 ???\n",
        "plt.plot([slat,slon3], [dlat,dlon3], linewidth=5, color=\"red\", alpha=1)\n",
        "plt.plot([slat,slon4], [dlat,dlon4], linewidth=5, color=\"red\", alpha=1)\n",
        "\n",
        "plt.show()"
      ],
      "execution_count": 92,
      "outputs": [
        {
          "output_type": "display_data",
          "data": {
            "image/png": "[encoded data removed]",
            "text/plain": [
              "<Figure size 432x288 with 1 Axes>"
            ]
          },
          "metadata": {
            "needs_background": "light"
          }
        }
      ]
    },
    {
      "cell_type": "code",
      "metadata": {
        "colab": {
          "base_uri": "https://localhost:8080/",
          "height": 265
        },
        "id": "QrvW47Zxqqez",
        "outputId": "ec5c6803-9bea-4d1c-a32a-c9c66f14119d"
      },
      "source": [
        "ax = world[world.continent == 'South America'].plot(\n",
        "color='white', edgecolor='black')\n",
        "\n",
        "gdf.plot(ax=ax, color='red')\n",
        "\n",
        "slat = df.iloc[0][\"Coordinates\"].x  \n",
        "dlat = df.iloc[0][\"Coordinates\"].y\n",
        "slon = df.iloc[1][\"Coordinates\"].x\n",
        "dlon =df.iloc[1][\"Coordinates\"].y\n",
        "\n",
        "slon2 = df.iloc[2][\"Coordinates\"].x\n",
        "dlon2 =df.iloc[2][\"Coordinates\"].y\n",
        "\n",
        "slon3 = df.iloc[3][\"Coordinates\"].x\n",
        "dlon3 =df.iloc[3][\"Coordinates\"].y\n",
        "\n",
        "slon4 = df.iloc[4][\"Coordinates\"].x\n",
        "dlon4 =df.iloc[4][\"Coordinates\"].y\n",
        "\n",
        "plt.plot([slat,slon], [dlat,dlon], linewidth=5, color=\"red\", alpha=1)   \n",
        "plt.plot([slat,slon2], [dlat,dlon2], linewidth=5, color=\"blue\", alpha=1)    # dlaczego połaczenie slat, slon2 ??? NAZWY ZMIENNYCH SĄ ZJEBANE !!! \n",
        "plt.plot([slat,slon2], linewidth=5, color=\"green\", alpha=1)    # dlaczego połaczenie slat, slon2 ??? TO DLACZEGO MAJĄC TYLKO DWIE ZMIENNIE ROBI LINIE A MAJAC 4 ROBI TO SAMO ???\n",
        "\n",
        "\n",
        "plt.show()"
      ],
      "execution_count": 98,
      "outputs": [
        {
          "output_type": "display_data",
          "data": {
            "image/png": "[encoded data removed]",
            "text/plain": [
              "<Figure size 432x288 with 1 Axes>"
            ]
          },
          "metadata": {
            "needs_background": "light"
          }
        }
      ]
    },
    {
      "cell_type": "code",
      "metadata": {
        "id": "maHQP7hRsIGt"
      },
      "source": [
        ""
      ],
      "execution_count": null,
      "outputs": []
    }
  ]
}
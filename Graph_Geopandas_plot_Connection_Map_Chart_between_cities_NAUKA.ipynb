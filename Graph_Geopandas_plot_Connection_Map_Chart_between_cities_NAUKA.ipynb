{
  "nbformat": 4,
  "nbformat_minor": 0,
  "metadata": {
    "colab": {
      "name": "Graph Geopandas plot Connection Map Chart between cities -  NAUKA.ipynb",
      "provenance": [],
      "collapsed_sections": []
    },
    "kernelspec": {
      "name": "python3",
      "display_name": "Python 3"
    },
    "language_info": {
      "name": "python"
    }
  },
  "cells": [
    {
      "cell_type": "code",
      "metadata": {
        "id": "fP896mDAMwpG",
        "colab": {
          "base_uri": "https://localhost:8080/"
        },
        "outputId": "cc61118a-17af-47ec-a579-c609a47cc486"
      },
      "source": [
        "!pip install git+git://github.com/geopandas/geopandas.git -q"
      ],
      "execution_count": 2,
      "outputs": [
        {
          "output_type": "stream",
          "text": [
            "\u001b[K     |████████████████████████████████| 15.4 MB 37 kB/s \n",
            "\u001b[K     |████████████████████████████████| 6.6 MB 23.2 MB/s \n",
            "\u001b[?25h  Building wheel for geopandas (setup.py) ... \u001b[?25l\u001b[?25hdone\n"
          ],
          "name": "stdout"
        }
      ]
    },
    {
      "cell_type": "code",
      "metadata": {
        "colab": {
          "base_uri": "https://localhost:8080/"
        },
        "id": "wyMiXhklMYEq",
        "outputId": "b11cbe8a-ba40-4f77-dd15-6202cc48ead9"
      },
      "source": [
        "import pandas as pd\n",
        "import geopandas as gpd\n",
        "\n",
        "import matplotlib.pyplot as plt\n",
        "import plotly.graph_objects as go\n",
        "\n",
        "pd.set_option(\"max.columns\", 30)\n",
        "\n",
        "print(\"Available Pandas Datasets\", gpd.datasets.available)"
      ],
      "execution_count": 3,
      "outputs": [
        {
          "output_type": "stream",
          "text": [
            "Available Pandas Datasets ['naturalearth_lowres', 'naturalearth_cities', 'nybb']\n"
          ],
          "name": "stdout"
        }
      ]
    },
    {
      "cell_type": "markdown",
      "metadata": {
        "id": "W_VR53_Wk5jM"
      },
      "source": [
        "Nauka"
      ]
    },
    {
      "cell_type": "code",
      "metadata": {
        "colab": {
          "base_uri": "https://localhost:8080/",
          "height": 206
        },
        "id": "w2r9ka7Fhbu5",
        "outputId": "ce49ba76-fb83-4410-92d0-f301fae7c4a7"
      },
      "source": [
        "world = gpd.read_file(gpd.datasets.get_path(\"naturalearth_lowres\"))\n",
        "world.head()"
      ],
      "execution_count": 7,
      "outputs": [
        {
          "output_type": "execute_result",
          "data": {
            "text/html": [
              "<div>\n",
              "<style scoped>\n",
              "    .dataframe tbody tr th:only-of-type {\n",
              "        vertical-align: middle;\n",
              "    }\n",
              "\n",
              "    .dataframe tbody tr th {\n",
              "        vertical-align: top;\n",
              "    }\n",
              "\n",
              "    .dataframe thead th {\n",
              "        text-align: right;\n",
              "    }\n",
              "</style>\n",
              "<table border=\"1\" class=\"dataframe\">\n",
              "  <thead>\n",
              "    <tr style=\"text-align: right;\">\n",
              "      <th></th>\n",
              "      <th>pop_est</th>\n",
              "      <th>continent</th>\n",
              "      <th>name</th>\n",
              "      <th>iso_a3</th>\n",
              "      <th>gdp_md_est</th>\n",
              "      <th>geometry</th>\n",
              "    </tr>\n",
              "  </thead>\n",
              "  <tbody>\n",
              "    <tr>\n",
              "      <th>0</th>\n",
              "      <td>920938</td>\n",
              "      <td>Oceania</td>\n",
              "      <td>Fiji</td>\n",
              "      <td>FJI</td>\n",
              "      <td>8374.0</td>\n",
              "      <td>MULTIPOLYGON (((180.00000 -16.06713, 180.00000...</td>\n",
              "    </tr>\n",
              "    <tr>\n",
              "      <th>1</th>\n",
              "      <td>53950935</td>\n",
              "      <td>Africa</td>\n",
              "      <td>Tanzania</td>\n",
              "      <td>TZA</td>\n",
              "      <td>150600.0</td>\n",
              "      <td>POLYGON ((33.90371 -0.95000, 34.07262 -1.05982...</td>\n",
              "    </tr>\n",
              "    <tr>\n",
              "      <th>2</th>\n",
              "      <td>603253</td>\n",
              "      <td>Africa</td>\n",
              "      <td>W. Sahara</td>\n",
              "      <td>ESH</td>\n",
              "      <td>906.5</td>\n",
              "      <td>POLYGON ((-8.66559 27.65643, -8.66512 27.58948...</td>\n",
              "    </tr>\n",
              "    <tr>\n",
              "      <th>3</th>\n",
              "      <td>35623680</td>\n",
              "      <td>North America</td>\n",
              "      <td>Canada</td>\n",
              "      <td>CAN</td>\n",
              "      <td>1674000.0</td>\n",
              "      <td>MULTIPOLYGON (((-122.84000 49.00000, -122.9742...</td>\n",
              "    </tr>\n",
              "    <tr>\n",
              "      <th>4</th>\n",
              "      <td>326625791</td>\n",
              "      <td>North America</td>\n",
              "      <td>United States of America</td>\n",
              "      <td>USA</td>\n",
              "      <td>18560000.0</td>\n",
              "      <td>MULTIPOLYGON (((-122.84000 49.00000, -120.0000...</td>\n",
              "    </tr>\n",
              "  </tbody>\n",
              "</table>\n",
              "</div>"
            ],
            "text/plain": [
              "     pop_est      continent                      name iso_a3  gdp_md_est  \\\n",
              "0     920938        Oceania                      Fiji    FJI      8374.0   \n",
              "1   53950935         Africa                  Tanzania    TZA    150600.0   \n",
              "2     603253         Africa                 W. Sahara    ESH       906.5   \n",
              "3   35623680  North America                    Canada    CAN   1674000.0   \n",
              "4  326625791  North America  United States of America    USA  18560000.0   \n",
              "\n",
              "                                            geometry  \n",
              "0  MULTIPOLYGON (((180.00000 -16.06713, 180.00000...  \n",
              "1  POLYGON ((33.90371 -0.95000, 34.07262 -1.05982...  \n",
              "2  POLYGON ((-8.66559 27.65643, -8.66512 27.58948...  \n",
              "3  MULTIPOLYGON (((-122.84000 49.00000, -122.9742...  \n",
              "4  MULTIPOLYGON (((-122.84000 49.00000, -120.0000...  "
            ]
          },
          "metadata": {},
          "execution_count": 7
        }
      ]
    },
    {
      "cell_type": "markdown",
      "metadata": {
        "id": "D1YdYH5Hk8U1"
      },
      "source": [
        "https://geopandas.org/gallery/create_geopandas_from_pandas.html"
      ]
    },
    {
      "cell_type": "code",
      "metadata": {
        "colab": {
          "base_uri": "https://localhost:8080/",
          "height": 206
        },
        "id": "QXhwKkaUkdN6",
        "outputId": "f88028a6-0a4a-4fca-8c0f-b47c173de9c8"
      },
      "source": [
        "df = pd.DataFrame(\n",
        "    {'City': ['Buenos Aires', 'Brasilia', 'Santiago', 'Bogota', 'Caracas'],\n",
        "     'Country': ['Argentina', 'Brazil', 'Chile', 'Colombia', 'Venezuela'],\n",
        "     'Coordinates': ['POINT(-58.66 -34.58)', 'POINT(-47.91 -15.78)',\n",
        "                     'POINT(-70.66 -33.45)', 'POINT(-74.08 4.60)',\n",
        "                     'POINT(-66.86 10.48)']})\n",
        "\n",
        "df"
      ],
      "execution_count": 8,
      "outputs": [
        {
          "output_type": "execute_result",
          "data": {
            "text/html": [
              "<div>\n",
              "<style scoped>\n",
              "    .dataframe tbody tr th:only-of-type {\n",
              "        vertical-align: middle;\n",
              "    }\n",
              "\n",
              "    .dataframe tbody tr th {\n",
              "        vertical-align: top;\n",
              "    }\n",
              "\n",
              "    .dataframe thead th {\n",
              "        text-align: right;\n",
              "    }\n",
              "</style>\n",
              "<table border=\"1\" class=\"dataframe\">\n",
              "  <thead>\n",
              "    <tr style=\"text-align: right;\">\n",
              "      <th></th>\n",
              "      <th>City</th>\n",
              "      <th>Country</th>\n",
              "      <th>Coordinates</th>\n",
              "    </tr>\n",
              "  </thead>\n",
              "  <tbody>\n",
              "    <tr>\n",
              "      <th>0</th>\n",
              "      <td>Buenos Aires</td>\n",
              "      <td>Argentina</td>\n",
              "      <td>POINT(-58.66 -34.58)</td>\n",
              "    </tr>\n",
              "    <tr>\n",
              "      <th>1</th>\n",
              "      <td>Brasilia</td>\n",
              "      <td>Brazil</td>\n",
              "      <td>POINT(-47.91 -15.78)</td>\n",
              "    </tr>\n",
              "    <tr>\n",
              "      <th>2</th>\n",
              "      <td>Santiago</td>\n",
              "      <td>Chile</td>\n",
              "      <td>POINT(-70.66 -33.45)</td>\n",
              "    </tr>\n",
              "    <tr>\n",
              "      <th>3</th>\n",
              "      <td>Bogota</td>\n",
              "      <td>Colombia</td>\n",
              "      <td>POINT(-74.08 4.60)</td>\n",
              "    </tr>\n",
              "    <tr>\n",
              "      <th>4</th>\n",
              "      <td>Caracas</td>\n",
              "      <td>Venezuela</td>\n",
              "      <td>POINT(-66.86 10.48)</td>\n",
              "    </tr>\n",
              "  </tbody>\n",
              "</table>\n",
              "</div>"
            ],
            "text/plain": [
              "           City    Country           Coordinates\n",
              "0  Buenos Aires  Argentina  POINT(-58.66 -34.58)\n",
              "1      Brasilia     Brazil  POINT(-47.91 -15.78)\n",
              "2      Santiago      Chile  POINT(-70.66 -33.45)\n",
              "3        Bogota   Colombia    POINT(-74.08 4.60)\n",
              "4       Caracas  Venezuela   POINT(-66.86 10.48)"
            ]
          },
          "metadata": {},
          "execution_count": 8
        }
      ]
    },
    {
      "cell_type": "code",
      "metadata": {
        "colab": {
          "base_uri": "https://localhost:8080/",
          "height": 206
        },
        "id": "dWS4i1xgk6z1",
        "outputId": "84c1a195-a291-42fa-8b6b-cfb5864187a3"
      },
      "source": [
        "from shapely import wkt\n",
        "\n",
        "df['Coordinates'] = gpd.GeoSeries.from_wkt(df['Coordinates'])\n",
        "df"
      ],
      "execution_count": 9,
      "outputs": [
        {
          "output_type": "execute_result",
          "data": {
            "text/html": [
              "<div>\n",
              "<style scoped>\n",
              "    .dataframe tbody tr th:only-of-type {\n",
              "        vertical-align: middle;\n",
              "    }\n",
              "\n",
              "    .dataframe tbody tr th {\n",
              "        vertical-align: top;\n",
              "    }\n",
              "\n",
              "    .dataframe thead th {\n",
              "        text-align: right;\n",
              "    }\n",
              "</style>\n",
              "<table border=\"1\" class=\"dataframe\">\n",
              "  <thead>\n",
              "    <tr style=\"text-align: right;\">\n",
              "      <th></th>\n",
              "      <th>City</th>\n",
              "      <th>Country</th>\n",
              "      <th>Coordinates</th>\n",
              "    </tr>\n",
              "  </thead>\n",
              "  <tbody>\n",
              "    <tr>\n",
              "      <th>0</th>\n",
              "      <td>Buenos Aires</td>\n",
              "      <td>Argentina</td>\n",
              "      <td>POINT (-58.66000 -34.58000)</td>\n",
              "    </tr>\n",
              "    <tr>\n",
              "      <th>1</th>\n",
              "      <td>Brasilia</td>\n",
              "      <td>Brazil</td>\n",
              "      <td>POINT (-47.91000 -15.78000)</td>\n",
              "    </tr>\n",
              "    <tr>\n",
              "      <th>2</th>\n",
              "      <td>Santiago</td>\n",
              "      <td>Chile</td>\n",
              "      <td>POINT (-70.66000 -33.45000)</td>\n",
              "    </tr>\n",
              "    <tr>\n",
              "      <th>3</th>\n",
              "      <td>Bogota</td>\n",
              "      <td>Colombia</td>\n",
              "      <td>POINT (-74.08000 4.60000)</td>\n",
              "    </tr>\n",
              "    <tr>\n",
              "      <th>4</th>\n",
              "      <td>Caracas</td>\n",
              "      <td>Venezuela</td>\n",
              "      <td>POINT (-66.86000 10.48000)</td>\n",
              "    </tr>\n",
              "  </tbody>\n",
              "</table>\n",
              "</div>"
            ],
            "text/plain": [
              "           City    Country                  Coordinates\n",
              "0  Buenos Aires  Argentina  POINT (-58.66000 -34.58000)\n",
              "1      Brasilia     Brazil  POINT (-47.91000 -15.78000)\n",
              "2      Santiago      Chile  POINT (-70.66000 -33.45000)\n",
              "3        Bogota   Colombia    POINT (-74.08000 4.60000)\n",
              "4       Caracas  Venezuela   POINT (-66.86000 10.48000)"
            ]
          },
          "metadata": {},
          "execution_count": 9
        }
      ]
    },
    {
      "cell_type": "code",
      "metadata": {
        "colab": {
          "base_uri": "https://localhost:8080/",
          "height": 206
        },
        "id": "hycku5kZlCkv",
        "outputId": "98a34d5f-5888-4b0a-b3aa-20d93589c31c"
      },
      "source": [
        "gdf = gpd.GeoDataFrame(df, geometry='Coordinates')\n",
        "gdf"
      ],
      "execution_count": 10,
      "outputs": [
        {
          "output_type": "execute_result",
          "data": {
            "text/html": [
              "<div>\n",
              "<style scoped>\n",
              "    .dataframe tbody tr th:only-of-type {\n",
              "        vertical-align: middle;\n",
              "    }\n",
              "\n",
              "    .dataframe tbody tr th {\n",
              "        vertical-align: top;\n",
              "    }\n",
              "\n",
              "    .dataframe thead th {\n",
              "        text-align: right;\n",
              "    }\n",
              "</style>\n",
              "<table border=\"1\" class=\"dataframe\">\n",
              "  <thead>\n",
              "    <tr style=\"text-align: right;\">\n",
              "      <th></th>\n",
              "      <th>City</th>\n",
              "      <th>Country</th>\n",
              "      <th>Coordinates</th>\n",
              "    </tr>\n",
              "  </thead>\n",
              "  <tbody>\n",
              "    <tr>\n",
              "      <th>0</th>\n",
              "      <td>Buenos Aires</td>\n",
              "      <td>Argentina</td>\n",
              "      <td>POINT (-58.66000 -34.58000)</td>\n",
              "    </tr>\n",
              "    <tr>\n",
              "      <th>1</th>\n",
              "      <td>Brasilia</td>\n",
              "      <td>Brazil</td>\n",
              "      <td>POINT (-47.91000 -15.78000)</td>\n",
              "    </tr>\n",
              "    <tr>\n",
              "      <th>2</th>\n",
              "      <td>Santiago</td>\n",
              "      <td>Chile</td>\n",
              "      <td>POINT (-70.66000 -33.45000)</td>\n",
              "    </tr>\n",
              "    <tr>\n",
              "      <th>3</th>\n",
              "      <td>Bogota</td>\n",
              "      <td>Colombia</td>\n",
              "      <td>POINT (-74.08000 4.60000)</td>\n",
              "    </tr>\n",
              "    <tr>\n",
              "      <th>4</th>\n",
              "      <td>Caracas</td>\n",
              "      <td>Venezuela</td>\n",
              "      <td>POINT (-66.86000 10.48000)</td>\n",
              "    </tr>\n",
              "  </tbody>\n",
              "</table>\n",
              "</div>"
            ],
            "text/plain": [
              "           City    Country                  Coordinates\n",
              "0  Buenos Aires  Argentina  POINT (-58.66000 -34.58000)\n",
              "1      Brasilia     Brazil  POINT (-47.91000 -15.78000)\n",
              "2      Santiago      Chile  POINT (-70.66000 -33.45000)\n",
              "3        Bogota   Colombia    POINT (-74.08000 4.60000)\n",
              "4       Caracas  Venezuela   POINT (-66.86000 10.48000)"
            ]
          },
          "metadata": {},
          "execution_count": 10
        }
      ]
    },
    {
      "cell_type": "code",
      "metadata": {
        "colab": {
          "base_uri": "https://localhost:8080/",
          "height": 265
        },
        "id": "N21Iix-XlRs4",
        "outputId": "b53e82fb-cbbb-4235-916e-35c06c303321"
      },
      "source": [
        "ax = world[world.continent == 'South America'].plot(\n",
        "    color='white', edgecolor='black')\n",
        "\n",
        "gdf.plot(ax=ax, color='red')\n",
        "\n",
        "plt.show()"
      ],
      "execution_count": 11,
      "outputs": [
        {
          "output_type": "display_data",
          "data": {
            "image/png": "[encoded data removed]",
            "text/plain": [
              "<Figure size 432x288 with 1 Axes>"
            ]
          },
          "metadata": {
            "needs_background": "light"
          }
        }
      ]
    },
    {
      "cell_type": "code",
      "metadata": {
        "colab": {
          "base_uri": "https://localhost:8080/",
          "height": 265
        },
        "id": "nKcfbSx6n46J",
        "outputId": "62a07d39-9055-4fac-bb32-74c1aa6685fc"
      },
      "source": [
        "ax = world[world.continent == 'South America'].plot(color='white', edgecolor='black')\n",
        "\n",
        "gdf.plot(ax=ax, color='red')\n",
        "\n",
        "plt.plot([df.iloc[0][\"Coordinates\"].x , df.iloc[1][\"Coordinates\"].x], \n",
        "         [df.iloc[0][\"Coordinates\"].y , df.iloc[1][\"Coordinates\"].y], \n",
        "         linewidth=2, color=\"red\", alpha=1)\n",
        "\n",
        "plt.show()"
      ],
      "execution_count": 70,
      "outputs": [
        {
          "output_type": "display_data",
          "data": {
            "image/png": "[encoded data removed]",
            "text/plain": [
              "<Figure size 432x288 with 1 Axes>"
            ]
          },
          "metadata": {
            "needs_background": "light"
          }
        }
      ]
    },
    {
      "cell_type": "code",
      "metadata": {
        "id": "maHQP7hRsIGt",
        "colab": {
          "base_uri": "https://localhost:8080/",
          "height": 265
        },
        "outputId": "fbf92d1f-1729-42d1-f3c1-fd9102022b4d"
      },
      "source": [
        "ax = world[world.continent == 'South America'].plot(color='white', edgecolor='black')\n",
        "\n",
        "gdf.plot(ax=ax, color='red')\n",
        "\n",
        "#wszytkie x w jednej liście i wszystkei y w drugiej liście\n",
        "plt.plot([df.iloc[0][\"Coordinates\"].x , df.iloc[1][\"Coordinates\"].x , df.iloc[2][\"Coordinates\"].x , df.iloc[3][\"Coordinates\"].x , df.iloc[4][\"Coordinates\"].x],\n",
        "         [df.iloc[0][\"Coordinates\"].y , df.iloc[1][\"Coordinates\"].y , df.iloc[2][\"Coordinates\"].y , df.iloc[3][\"Coordinates\"].y , df.iloc[4][\"Coordinates\"].y],\n",
        "         linewidth=2, color=\"red\", alpha=1)\n",
        "\n",
        "plt.show()"
      ],
      "execution_count": 26,
      "outputs": [
        {
          "output_type": "display_data",
          "data": {
            "image/png": "[encoded data removed]",
            "text/plain": [
              "<Figure size 432x288 with 1 Axes>"
            ]
          },
          "metadata": {
            "needs_background": "light"
          }
        }
      ]
    },
    {
      "cell_type": "code",
      "metadata": {
        "colab": {
          "base_uri": "https://localhost:8080/",
          "height": 265
        },
        "id": "s07r6S43mC6l",
        "outputId": "d5f043a6-ae2b-4783-b467-1864287e55f4"
      },
      "source": [
        "ax = world[world.continent == 'South America'].plot(color='white', edgecolor='black')\n",
        "\n",
        "gdf.plot(ax=ax, color='red')\n",
        "\n",
        "#wszytkie x w jednej liście i wszystkei y w drugiej liście\n",
        "for j in range(len(df))[:]:\n",
        "  v_color = \"brown\"\n",
        "\n",
        "  # if j == 0:\n",
        "  #   v_color = \"green\"\n",
        "  # elif j == 1:\n",
        "  #   v_color = \"red\"\n",
        "  # elif j == 2:\n",
        "  #   v_color = \"blue\"\n",
        "  # elif j == 3:\n",
        "  #   v_color = \"orange\"\n",
        "  # else:\n",
        "  #   v_color = \"brown\"\n",
        "  \n",
        "  \n",
        "  for i in range(len(df)):\n",
        "    plt.plot([df.iloc[j][\"Coordinates\"].x , df.iloc[i][\"Coordinates\"].x ],\n",
        "            [df.iloc[j][\"Coordinates\"].y , df.iloc[i][\"Coordinates\"].y ],\n",
        "            linewidth=2, color=v_color, alpha=1)\n",
        "\n",
        "plt.show()"
      ],
      "execution_count": 67,
      "outputs": [
        {
          "output_type": "display_data",
          "data": {
            "image/png": "[encoded data removed]",
            "text/plain": [
              "<Figure size 432x288 with 1 Axes>"
            ]
          },
          "metadata": {
            "needs_background": "light"
          }
        }
      ]
    },
    {
      "cell_type": "code",
      "metadata": {
        "id": "XO_9Ed5loNMy"
      },
      "source": [
        ""
      ],
      "execution_count": null,
      "outputs": []
    }
  ]
}
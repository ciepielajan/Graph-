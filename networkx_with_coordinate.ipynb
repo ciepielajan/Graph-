{
  "nbformat": 4,
  "nbformat_minor": 0,
  "metadata": {
    "colab": {
      "name": "networkx with coordinate.ipynb",
      "provenance": [],
      "collapsed_sections": []
    },
    "kernelspec": {
      "name": "python3",
      "display_name": "Python 3"
    },
    "language_info": {
      "name": "python"
    }
  },
  "cells": [
    {
      "cell_type": "markdown",
      "metadata": {
        "id": "GWS1gSEDf-zo"
      },
      "source": [
        "https://stackoverflow.com/a/11809184"
      ]
    },
    {
      "cell_type": "code",
      "metadata": {
        "colab": {
          "base_uri": "https://localhost:8080/"
        },
        "id": "fag377bXfr_Q",
        "outputId": "ba40a916-2d01-4056-d23e-500cc2bd1152"
      },
      "source": [
        "import networkx as nx\n",
        "\n",
        "G=nx.Graph()\n",
        "\n",
        "G.add_node(1,pos=(1,1))\n",
        "\n",
        "G.add_node(2,pos=(2,2))\n",
        "\n",
        "G.add_edge(1,2)\n",
        "\n",
        "pos=nx.get_node_attributes(G,'pos')\n",
        "\n",
        "pos\n",
        "# {1: (1, 1), 2: (2, 2)}\n"
      ],
      "execution_count": 1,
      "outputs": [
        {
          "output_type": "execute_result",
          "data": {
            "text/plain": [
              "{1: (1, 1), 2: (2, 2)}"
            ]
          },
          "metadata": {},
          "execution_count": 1
        }
      ]
    },
    {
      "cell_type": "code",
      "metadata": {
        "colab": {
          "base_uri": "https://localhost:8080/",
          "height": 319
        },
        "id": "LKRg3sG0fzGh",
        "outputId": "00ab4228-c7cf-4614-dc58-1d37c18ee5c7"
      },
      "source": [
        "nx.draw(G,pos)"
      ],
      "execution_count": 2,
      "outputs": [
        {
          "output_type": "display_data",
          "data": {
            "image/png": "[encoded data removed]",
            "text/plain": [
              "<Figure size 432x288 with 1 Axes>"
            ]
          },
          "metadata": {}
        }
      ]
    },
    {
      "cell_type": "markdown",
      "metadata": {
        "id": "mJ0QWNqoguJR"
      },
      "source": [
        "hmm oś nie potrzebna ale jak wygdrukować to wraz z innym mapą :P "
      ]
    },
    {
      "cell_type": "code",
      "metadata": {
        "id": "fpqAERWXgeh4"
      },
      "source": [
        "from matplotlib import pyplot as plt"
      ],
      "execution_count": 7,
      "outputs": []
    },
    {
      "cell_type": "code",
      "metadata": {
        "id": "HJ4KhTA5grMW"
      },
      "source": [
        ""
      ],
      "execution_count": null,
      "outputs": []
    }
  ]
}